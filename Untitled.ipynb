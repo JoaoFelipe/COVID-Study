{
 "cells": [
  {
   "cell_type": "code",
   "execution_count": 3,
   "id": "6770eac9-f745-4609-bf46-32cd91f6c7f4",
   "metadata": {},
   "outputs": [],
   "source": [
    "import pandas as pd"
   ]
  },
  {
   "cell_type": "code",
   "execution_count": 4,
   "id": "d8b13ec9-ca92-4203-8fd9-3623f9d25306",
   "metadata": {},
   "outputs": [],
   "source": [
    "df = pd.read_excel(\"SRAG 2024_DOWNLOAD 29_3_25 IMUNODEPRE_RT_PCR OU ANTIGENO POSITIVO.xlsx\")"
   ]
  },
  {
   "cell_type": "code",
   "execution_count": 132,
   "id": "c34cb7c6-486a-4b3d-85f8-cb5b223b73d4",
   "metadata": {},
   "outputs": [
    {
     "data": {
      "text/html": [
       "<div>\n",
       "<style scoped>\n",
       "    .dataframe tbody tr th:only-of-type {\n",
       "        vertical-align: middle;\n",
       "    }\n",
       "\n",
       "    .dataframe tbody tr th {\n",
       "        vertical-align: top;\n",
       "    }\n",
       "\n",
       "    .dataframe thead th {\n",
       "        text-align: right;\n",
       "    }\n",
       "</style>\n",
       "<table border=\"1\" class=\"dataframe\">\n",
       "  <thead>\n",
       "    <tr style=\"text-align: right;\">\n",
       "      <th></th>\n",
       "      <th>DT_NOTIFIC</th>\n",
       "      <th>SEM_NOT</th>\n",
       "      <th>DT_SIN_PRI</th>\n",
       "      <th>DIAS INICIO SIN HOSPITALIZAÇÃO</th>\n",
       "      <th>SEM_PRI</th>\n",
       "      <th>SG_UF_NOT</th>\n",
       "      <th>ID_REGIONA</th>\n",
       "      <th>CO_REGIONA</th>\n",
       "      <th>ID_MUNICIP</th>\n",
       "      <th>CO_MUN_NOT</th>\n",
       "      <th>...</th>\n",
       "      <th>VG_REINF</th>\n",
       "      <th>REINF</th>\n",
       "      <th>Unnamed: 195</th>\n",
       "      <th>LOT_RE_BI</th>\n",
       "      <th>FAB_RE_BI</th>\n",
       "      <th>Unnamed: 198</th>\n",
       "      <th>DOS_RE_BI</th>\n",
       "      <th>LOTE_ADIC</th>\n",
       "      <th>TABAG</th>\n",
       "      <th>CASO_SRAG</th>\n",
       "    </tr>\n",
       "  </thead>\n",
       "  <tbody>\n",
       "    <tr>\n",
       "      <th>0</th>\n",
       "      <td>2024-03-04</td>\n",
       "      <td>10</td>\n",
       "      <td>2024-02-28</td>\n",
       "      <td>NaN</td>\n",
       "      <td>9</td>\n",
       "      <td>MS</td>\n",
       "      <td>NRS DE TRES LAGOAS</td>\n",
       "      <td>6255.0</td>\n",
       "      <td>BATAGUASSU</td>\n",
       "      <td>500190</td>\n",
       "      <td>...</td>\n",
       "      <td>NaN</td>\n",
       "      <td>2</td>\n",
       "      <td>NaN</td>\n",
       "      <td>NaN</td>\n",
       "      <td>NaN</td>\n",
       "      <td>NaN</td>\n",
       "      <td>NaT</td>\n",
       "      <td>NaN</td>\n",
       "      <td>NaN</td>\n",
       "      <td>1.0</td>\n",
       "    </tr>\n",
       "    <tr>\n",
       "      <th>1</th>\n",
       "      <td>2024-02-16</td>\n",
       "      <td>7</td>\n",
       "      <td>2024-02-13</td>\n",
       "      <td>NaN</td>\n",
       "      <td>7</td>\n",
       "      <td>PR</td>\n",
       "      <td>02RS METROPOLITANA</td>\n",
       "      <td>1356.0</td>\n",
       "      <td>CURITIBA</td>\n",
       "      <td>410690</td>\n",
       "      <td>...</td>\n",
       "      <td>NaN</td>\n",
       "      <td>2</td>\n",
       "      <td>NaN</td>\n",
       "      <td>GJ7181</td>\n",
       "      <td>NaN</td>\n",
       "      <td>NaN</td>\n",
       "      <td>2023-05-16</td>\n",
       "      <td>NaN</td>\n",
       "      <td>NaN</td>\n",
       "      <td>1.0</td>\n",
       "    </tr>\n",
       "    <tr>\n",
       "      <th>2</th>\n",
       "      <td>2024-08-29</td>\n",
       "      <td>35</td>\n",
       "      <td>2024-07-23</td>\n",
       "      <td>NaN</td>\n",
       "      <td>30</td>\n",
       "      <td>DF</td>\n",
       "      <td>NaN</td>\n",
       "      <td>NaN</td>\n",
       "      <td>BRASILIA</td>\n",
       "      <td>530010</td>\n",
       "      <td>...</td>\n",
       "      <td>NaN</td>\n",
       "      <td>2</td>\n",
       "      <td>NaN</td>\n",
       "      <td>NaN</td>\n",
       "      <td>NaN</td>\n",
       "      <td>NaN</td>\n",
       "      <td>NaT</td>\n",
       "      <td>NaN</td>\n",
       "      <td>NaN</td>\n",
       "      <td>1.0</td>\n",
       "    </tr>\n",
       "    <tr>\n",
       "      <th>3</th>\n",
       "      <td>2024-08-09</td>\n",
       "      <td>32</td>\n",
       "      <td>2024-08-05</td>\n",
       "      <td>NaN</td>\n",
       "      <td>32</td>\n",
       "      <td>PA</td>\n",
       "      <td>01 REGIONAL DE PROTECAO SOCIAL</td>\n",
       "      <td>1484.0</td>\n",
       "      <td>BELEM</td>\n",
       "      <td>150140</td>\n",
       "      <td>...</td>\n",
       "      <td>NaN</td>\n",
       "      <td>2</td>\n",
       "      <td>NaN</td>\n",
       "      <td>NaN</td>\n",
       "      <td>NaN</td>\n",
       "      <td>NaN</td>\n",
       "      <td>NaT</td>\n",
       "      <td>NaN</td>\n",
       "      <td>NaN</td>\n",
       "      <td>1.0</td>\n",
       "    </tr>\n",
       "    <tr>\n",
       "      <th>4</th>\n",
       "      <td>2024-09-06</td>\n",
       "      <td>36</td>\n",
       "      <td>2024-09-04</td>\n",
       "      <td>1.0</td>\n",
       "      <td>36</td>\n",
       "      <td>SP</td>\n",
       "      <td>GVE I CAPITAL</td>\n",
       "      <td>1331.0</td>\n",
       "      <td>SAO PAULO</td>\n",
       "      <td>355030</td>\n",
       "      <td>...</td>\n",
       "      <td>NaN</td>\n",
       "      <td>2</td>\n",
       "      <td>NaN</td>\n",
       "      <td>GF9673</td>\n",
       "      <td>NaN</td>\n",
       "      <td>NaN</td>\n",
       "      <td>2023-03-27</td>\n",
       "      <td>NaN</td>\n",
       "      <td>NaN</td>\n",
       "      <td>1.0</td>\n",
       "    </tr>\n",
       "    <tr>\n",
       "      <th>...</th>\n",
       "      <td>...</td>\n",
       "      <td>...</td>\n",
       "      <td>...</td>\n",
       "      <td>...</td>\n",
       "      <td>...</td>\n",
       "      <td>...</td>\n",
       "      <td>...</td>\n",
       "      <td>...</td>\n",
       "      <td>...</td>\n",
       "      <td>...</td>\n",
       "      <td>...</td>\n",
       "      <td>...</td>\n",
       "      <td>...</td>\n",
       "      <td>...</td>\n",
       "      <td>...</td>\n",
       "      <td>...</td>\n",
       "      <td>...</td>\n",
       "      <td>...</td>\n",
       "      <td>...</td>\n",
       "      <td>...</td>\n",
       "      <td>...</td>\n",
       "    </tr>\n",
       "    <tr>\n",
       "      <th>1431</th>\n",
       "      <td>2024-10-06</td>\n",
       "      <td>41</td>\n",
       "      <td>2024-10-05</td>\n",
       "      <td>0.0</td>\n",
       "      <td>40</td>\n",
       "      <td>MG</td>\n",
       "      <td>POUSO ALEGRE</td>\n",
       "      <td>1459.0</td>\n",
       "      <td>POCOS DE CALDAS</td>\n",
       "      <td>315180</td>\n",
       "      <td>...</td>\n",
       "      <td>NaN</td>\n",
       "      <td>2</td>\n",
       "      <td>NaN</td>\n",
       "      <td>GJ2553</td>\n",
       "      <td>NaN</td>\n",
       "      <td>NaN</td>\n",
       "      <td>2023-03-01</td>\n",
       "      <td>NaN</td>\n",
       "      <td>NaN</td>\n",
       "      <td>0.0</td>\n",
       "    </tr>\n",
       "    <tr>\n",
       "      <th>1432</th>\n",
       "      <td>2024-10-03</td>\n",
       "      <td>40</td>\n",
       "      <td>2024-08-07</td>\n",
       "      <td>NaN</td>\n",
       "      <td>32</td>\n",
       "      <td>SP</td>\n",
       "      <td>GVE VIII MOGI DAS CRUZES</td>\n",
       "      <td>1333.0</td>\n",
       "      <td>GUARULHOS</td>\n",
       "      <td>351880</td>\n",
       "      <td>...</td>\n",
       "      <td>NaN</td>\n",
       "      <td>2</td>\n",
       "      <td>NaN</td>\n",
       "      <td>NaN</td>\n",
       "      <td>NaN</td>\n",
       "      <td>NaN</td>\n",
       "      <td>NaT</td>\n",
       "      <td>NaN</td>\n",
       "      <td>NaN</td>\n",
       "      <td>0.0</td>\n",
       "    </tr>\n",
       "    <tr>\n",
       "      <th>1433</th>\n",
       "      <td>2024-03-06</td>\n",
       "      <td>10</td>\n",
       "      <td>2024-02-19</td>\n",
       "      <td>6.0</td>\n",
       "      <td>8</td>\n",
       "      <td>DF</td>\n",
       "      <td>NaN</td>\n",
       "      <td>NaN</td>\n",
       "      <td>BRASILIA</td>\n",
       "      <td>530010</td>\n",
       "      <td>...</td>\n",
       "      <td>NaN</td>\n",
       "      <td>2</td>\n",
       "      <td>NaN</td>\n",
       "      <td>NaN</td>\n",
       "      <td>NaN</td>\n",
       "      <td>NaN</td>\n",
       "      <td>NaT</td>\n",
       "      <td>FM3809</td>\n",
       "      <td>NaN</td>\n",
       "      <td>1.0</td>\n",
       "    </tr>\n",
       "    <tr>\n",
       "      <th>1434</th>\n",
       "      <td>2024-04-04</td>\n",
       "      <td>14</td>\n",
       "      <td>2024-03-15</td>\n",
       "      <td>NaN</td>\n",
       "      <td>11</td>\n",
       "      <td>SP</td>\n",
       "      <td>GVE VIII MOGI DAS CRUZES</td>\n",
       "      <td>1333.0</td>\n",
       "      <td>GUARULHOS</td>\n",
       "      <td>351880</td>\n",
       "      <td>...</td>\n",
       "      <td>NaN</td>\n",
       "      <td>2</td>\n",
       "      <td>NaN</td>\n",
       "      <td>NaN</td>\n",
       "      <td>NaN</td>\n",
       "      <td>NaN</td>\n",
       "      <td>NaT</td>\n",
       "      <td>NaN</td>\n",
       "      <td>NaN</td>\n",
       "      <td>0.0</td>\n",
       "    </tr>\n",
       "    <tr>\n",
       "      <th>1435</th>\n",
       "      <td>2024-03-08</td>\n",
       "      <td>10</td>\n",
       "      <td>2024-03-05</td>\n",
       "      <td>NaN</td>\n",
       "      <td>10</td>\n",
       "      <td>SP</td>\n",
       "      <td>GVE I CAPITAL</td>\n",
       "      <td>1331.0</td>\n",
       "      <td>SAO PAULO</td>\n",
       "      <td>355030</td>\n",
       "      <td>...</td>\n",
       "      <td>NaN</td>\n",
       "      <td>2</td>\n",
       "      <td>NaN</td>\n",
       "      <td>NaN</td>\n",
       "      <td>NaN</td>\n",
       "      <td>NaN</td>\n",
       "      <td>NaT</td>\n",
       "      <td>NaN</td>\n",
       "      <td>NaN</td>\n",
       "      <td>0.0</td>\n",
       "    </tr>\n",
       "  </tbody>\n",
       "</table>\n",
       "<p>1436 rows × 203 columns</p>\n",
       "</div>"
      ],
      "text/plain": [
       "     DT_NOTIFIC  SEM_NOT DT_SIN_PRI  DIAS INICIO SIN HOSPITALIZAÇÃO  SEM_PRI  \\\n",
       "0    2024-03-04       10 2024-02-28                             NaN        9   \n",
       "1    2024-02-16        7 2024-02-13                             NaN        7   \n",
       "2    2024-08-29       35 2024-07-23                             NaN       30   \n",
       "3    2024-08-09       32 2024-08-05                             NaN       32   \n",
       "4    2024-09-06       36 2024-09-04                             1.0       36   \n",
       "...         ...      ...        ...                             ...      ...   \n",
       "1431 2024-10-06       41 2024-10-05                             0.0       40   \n",
       "1432 2024-10-03       40 2024-08-07                             NaN       32   \n",
       "1433 2024-03-06       10 2024-02-19                             6.0        8   \n",
       "1434 2024-04-04       14 2024-03-15                             NaN       11   \n",
       "1435 2024-03-08       10 2024-03-05                             NaN       10   \n",
       "\n",
       "     SG_UF_NOT                      ID_REGIONA  CO_REGIONA       ID_MUNICIP  \\\n",
       "0           MS              NRS DE TRES LAGOAS      6255.0       BATAGUASSU   \n",
       "1           PR              02RS METROPOLITANA      1356.0         CURITIBA   \n",
       "2           DF                             NaN         NaN         BRASILIA   \n",
       "3           PA  01 REGIONAL DE PROTECAO SOCIAL      1484.0            BELEM   \n",
       "4           SP                   GVE I CAPITAL      1331.0        SAO PAULO   \n",
       "...        ...                             ...         ...              ...   \n",
       "1431        MG                    POUSO ALEGRE      1459.0  POCOS DE CALDAS   \n",
       "1432        SP        GVE VIII MOGI DAS CRUZES      1333.0        GUARULHOS   \n",
       "1433        DF                             NaN         NaN         BRASILIA   \n",
       "1434        SP        GVE VIII MOGI DAS CRUZES      1333.0        GUARULHOS   \n",
       "1435        SP                   GVE I CAPITAL      1331.0        SAO PAULO   \n",
       "\n",
       "      CO_MUN_NOT  ... VG_REINF  REINF Unnamed: 195 LOT_RE_BI  FAB_RE_BI  \\\n",
       "0         500190  ...      NaN      2          NaN       NaN        NaN   \n",
       "1         410690  ...      NaN      2          NaN    GJ7181        NaN   \n",
       "2         530010  ...      NaN      2          NaN       NaN        NaN   \n",
       "3         150140  ...      NaN      2          NaN       NaN        NaN   \n",
       "4         355030  ...      NaN      2          NaN    GF9673        NaN   \n",
       "...          ...  ...      ...    ...          ...       ...        ...   \n",
       "1431      315180  ...      NaN      2          NaN    GJ2553        NaN   \n",
       "1432      351880  ...      NaN      2          NaN       NaN        NaN   \n",
       "1433      530010  ...      NaN      2          NaN       NaN        NaN   \n",
       "1434      351880  ...      NaN      2          NaN       NaN        NaN   \n",
       "1435      355030  ...      NaN      2          NaN       NaN        NaN   \n",
       "\n",
       "      Unnamed: 198  DOS_RE_BI  LOTE_ADIC  TABAG  CASO_SRAG  \n",
       "0              NaN        NaT        NaN    NaN        1.0  \n",
       "1              NaN 2023-05-16        NaN    NaN        1.0  \n",
       "2              NaN        NaT        NaN    NaN        1.0  \n",
       "3              NaN        NaT        NaN    NaN        1.0  \n",
       "4              NaN 2023-03-27        NaN    NaN        1.0  \n",
       "...            ...        ...        ...    ...        ...  \n",
       "1431           NaN 2023-03-01        NaN    NaN        0.0  \n",
       "1432           NaN        NaT        NaN    NaN        0.0  \n",
       "1433           NaN        NaT     FM3809    NaN        1.0  \n",
       "1434           NaN        NaT        NaN    NaN        0.0  \n",
       "1435           NaN        NaT        NaN    NaN        0.0  \n",
       "\n",
       "[1436 rows x 203 columns]"
      ]
     },
     "execution_count": 132,
     "metadata": {},
     "output_type": "execute_result"
    }
   ],
   "source": [
    "df"
   ]
  },
  {
   "cell_type": "markdown",
   "id": "c71b0464-59dc-45ac-ae6f-9ce213b36258",
   "metadata": {},
   "source": [
    "## Filtrar por Idade (>= 60), Imunodepressivo, PCR_SARS2"
   ]
  },
  {
   "cell_type": "code",
   "execution_count": 155,
   "id": "ae07d611-3e6c-40da-9b51-c422276d4ea6",
   "metadata": {},
   "outputs": [],
   "source": [
    "ANO = 3\n",
    "MARCADO_PELO_USUARIO = 1\n",
    "SIM = 1\n",
    "NAO = 2\n",
    "COVID = 5\n",
    "\n",
    "#COMORBIDADES_ADICIONAIS = AS, AT, AV, AZ (AW + BA), AX, AZ, BC, BD\n",
    "\n",
    "# CA = UTI\n",
    "# CD = SUPORT_VEN\n",
    "# CLASSIFI\n",
    "\n",
    "from datetime import date\n",
    "\n",
    "filtered = df[\n",
    "    (df[\"NOSOCOMIAL\"] == NAO)\n",
    "    & (df[\"NU_IDADE_N\"] >= 60)\n",
    "    & (df[\"IMUNODEPRE\"] == SIM)\n",
    "    & (df[\"HOSPITAL\"] == SIM)\n",
    "    & ~(df[\"DT_INTERNA\"].isna())\n",
    "    & (df[\"CLASSI_FIN\"] == COVID)\n",
    "    & ((df[\"PCR_SARS2\"] == MARCADO_PELO_USUARIO) | (df[\"AN_SARS2\"] == SIM)) \n",
    "    & (df[\"EVOLUCAO\"].isin([1, 2]))\n",
    "    & ~(df[\"EVOLUCAO\"].isna())\n",
    "    & ~(df[\"DT_EVOLUCA\"].isna())\n",
    "    & (df[\"DT_EVOLUCA\"] >= pd.to_datetime('2023-12-31'))\n",
    "    & (df[\"DT_EVOLUCA\"] <= pd.to_datetime('2024-12-28'))\n",
    "]"
   ]
  },
  {
   "cell_type": "code",
   "execution_count": 156,
   "id": "a44a63b3-4598-4ca1-b219-ec36e6984a17",
   "metadata": {},
   "outputs": [
    {
     "data": {
      "text/html": [
       "<div>\n",
       "<style scoped>\n",
       "    .dataframe tbody tr th:only-of-type {\n",
       "        vertical-align: middle;\n",
       "    }\n",
       "\n",
       "    .dataframe tbody tr th {\n",
       "        vertical-align: top;\n",
       "    }\n",
       "\n",
       "    .dataframe thead th {\n",
       "        text-align: right;\n",
       "    }\n",
       "</style>\n",
       "<table border=\"1\" class=\"dataframe\">\n",
       "  <thead>\n",
       "    <tr style=\"text-align: right;\">\n",
       "      <th></th>\n",
       "      <th>DT_NOTIFIC</th>\n",
       "      <th>SEM_NOT</th>\n",
       "      <th>DT_SIN_PRI</th>\n",
       "      <th>DIAS INICIO SIN HOSPITALIZAÇÃO</th>\n",
       "      <th>SEM_PRI</th>\n",
       "      <th>SG_UF_NOT</th>\n",
       "      <th>ID_REGIONA</th>\n",
       "      <th>CO_REGIONA</th>\n",
       "      <th>ID_MUNICIP</th>\n",
       "      <th>CO_MUN_NOT</th>\n",
       "      <th>...</th>\n",
       "      <th>VG_REINF</th>\n",
       "      <th>REINF</th>\n",
       "      <th>Unnamed: 195</th>\n",
       "      <th>LOT_RE_BI</th>\n",
       "      <th>FAB_RE_BI</th>\n",
       "      <th>Unnamed: 198</th>\n",
       "      <th>DOS_RE_BI</th>\n",
       "      <th>LOTE_ADIC</th>\n",
       "      <th>TABAG</th>\n",
       "      <th>CASO_SRAG</th>\n",
       "    </tr>\n",
       "  </thead>\n",
       "  <tbody>\n",
       "    <tr>\n",
       "      <th>4</th>\n",
       "      <td>2024-09-06</td>\n",
       "      <td>36</td>\n",
       "      <td>2024-09-04</td>\n",
       "      <td>1.0</td>\n",
       "      <td>36</td>\n",
       "      <td>SP</td>\n",
       "      <td>GVE I CAPITAL</td>\n",
       "      <td>1331.0</td>\n",
       "      <td>SAO PAULO</td>\n",
       "      <td>355030</td>\n",
       "      <td>...</td>\n",
       "      <td>NaN</td>\n",
       "      <td>2</td>\n",
       "      <td>NaN</td>\n",
       "      <td>GF9673</td>\n",
       "      <td>NaN</td>\n",
       "      <td>NaN</td>\n",
       "      <td>2023-03-27</td>\n",
       "      <td>NaN</td>\n",
       "      <td>NaN</td>\n",
       "      <td>1.0</td>\n",
       "    </tr>\n",
       "    <tr>\n",
       "      <th>5</th>\n",
       "      <td>2024-02-05</td>\n",
       "      <td>6</td>\n",
       "      <td>2024-02-05</td>\n",
       "      <td>0.0</td>\n",
       "      <td>6</td>\n",
       "      <td>SC</td>\n",
       "      <td>JOINVILLE</td>\n",
       "      <td>1565.0</td>\n",
       "      <td>JOINVILLE</td>\n",
       "      <td>420910</td>\n",
       "      <td>...</td>\n",
       "      <td>NaN</td>\n",
       "      <td>2</td>\n",
       "      <td>NaN</td>\n",
       "      <td>GJ9239</td>\n",
       "      <td>NaN</td>\n",
       "      <td>NaN</td>\n",
       "      <td>2023-06-28</td>\n",
       "      <td>NaN</td>\n",
       "      <td>NaN</td>\n",
       "      <td>1.0</td>\n",
       "    </tr>\n",
       "    <tr>\n",
       "      <th>6</th>\n",
       "      <td>2024-09-17</td>\n",
       "      <td>38</td>\n",
       "      <td>2024-09-15</td>\n",
       "      <td>2.0</td>\n",
       "      <td>38</td>\n",
       "      <td>RS</td>\n",
       "      <td>018 CRS</td>\n",
       "      <td>1605.0</td>\n",
       "      <td>CAPAO DA CANOA</td>\n",
       "      <td>430463</td>\n",
       "      <td>...</td>\n",
       "      <td>NaN</td>\n",
       "      <td>2</td>\n",
       "      <td>NaN</td>\n",
       "      <td>NaN</td>\n",
       "      <td>NaN</td>\n",
       "      <td>NaN</td>\n",
       "      <td>NaT</td>\n",
       "      <td>NaN</td>\n",
       "      <td>NaN</td>\n",
       "      <td>1.0</td>\n",
       "    </tr>\n",
       "    <tr>\n",
       "      <th>7</th>\n",
       "      <td>2024-12-05</td>\n",
       "      <td>49</td>\n",
       "      <td>2024-10-01</td>\n",
       "      <td>0.0</td>\n",
       "      <td>40</td>\n",
       "      <td>SP</td>\n",
       "      <td>GVE I CAPITAL</td>\n",
       "      <td>1331.0</td>\n",
       "      <td>SAO PAULO</td>\n",
       "      <td>355030</td>\n",
       "      <td>...</td>\n",
       "      <td>NaN</td>\n",
       "      <td>2</td>\n",
       "      <td>NaN</td>\n",
       "      <td>NaN</td>\n",
       "      <td>NaN</td>\n",
       "      <td>NaN</td>\n",
       "      <td>NaT</td>\n",
       "      <td>NaN</td>\n",
       "      <td>NaN</td>\n",
       "      <td>1.0</td>\n",
       "    </tr>\n",
       "    <tr>\n",
       "      <th>16</th>\n",
       "      <td>2024-12-11</td>\n",
       "      <td>50</td>\n",
       "      <td>2024-11-11</td>\n",
       "      <td>23.0</td>\n",
       "      <td>46</td>\n",
       "      <td>MG</td>\n",
       "      <td>BELO HORIZONTE</td>\n",
       "      <td>1449.0</td>\n",
       "      <td>BELO HORIZONTE</td>\n",
       "      <td>310620</td>\n",
       "      <td>...</td>\n",
       "      <td>NaN</td>\n",
       "      <td>2</td>\n",
       "      <td>NaN</td>\n",
       "      <td>NaN</td>\n",
       "      <td>NaN</td>\n",
       "      <td>NaN</td>\n",
       "      <td>NaT</td>\n",
       "      <td>NaN</td>\n",
       "      <td>NaN</td>\n",
       "      <td>1.0</td>\n",
       "    </tr>\n",
       "    <tr>\n",
       "      <th>...</th>\n",
       "      <td>...</td>\n",
       "      <td>...</td>\n",
       "      <td>...</td>\n",
       "      <td>...</td>\n",
       "      <td>...</td>\n",
       "      <td>...</td>\n",
       "      <td>...</td>\n",
       "      <td>...</td>\n",
       "      <td>...</td>\n",
       "      <td>...</td>\n",
       "      <td>...</td>\n",
       "      <td>...</td>\n",
       "      <td>...</td>\n",
       "      <td>...</td>\n",
       "      <td>...</td>\n",
       "      <td>...</td>\n",
       "      <td>...</td>\n",
       "      <td>...</td>\n",
       "      <td>...</td>\n",
       "      <td>...</td>\n",
       "      <td>...</td>\n",
       "    </tr>\n",
       "    <tr>\n",
       "      <th>1424</th>\n",
       "      <td>2024-09-25</td>\n",
       "      <td>39</td>\n",
       "      <td>2024-09-24</td>\n",
       "      <td>1.0</td>\n",
       "      <td>39</td>\n",
       "      <td>MG</td>\n",
       "      <td>SETE LAGOAS</td>\n",
       "      <td>1467.0</td>\n",
       "      <td>SETE LAGOAS</td>\n",
       "      <td>316720</td>\n",
       "      <td>...</td>\n",
       "      <td>NaN</td>\n",
       "      <td>2</td>\n",
       "      <td>NaN</td>\n",
       "      <td>NaN</td>\n",
       "      <td>NaN</td>\n",
       "      <td>NaN</td>\n",
       "      <td>NaT</td>\n",
       "      <td>NaN</td>\n",
       "      <td>NaN</td>\n",
       "      <td>1.0</td>\n",
       "    </tr>\n",
       "    <tr>\n",
       "      <th>1425</th>\n",
       "      <td>2024-02-22</td>\n",
       "      <td>8</td>\n",
       "      <td>2024-02-15</td>\n",
       "      <td>1.0</td>\n",
       "      <td>7</td>\n",
       "      <td>SP</td>\n",
       "      <td>GVE XX PIRACICABA</td>\n",
       "      <td>1345.0</td>\n",
       "      <td>PIRACICABA</td>\n",
       "      <td>353870</td>\n",
       "      <td>...</td>\n",
       "      <td>NaN</td>\n",
       "      <td>2</td>\n",
       "      <td>NaN</td>\n",
       "      <td>NaN</td>\n",
       "      <td>NaN</td>\n",
       "      <td>NaN</td>\n",
       "      <td>NaT</td>\n",
       "      <td>NaN</td>\n",
       "      <td>NaN</td>\n",
       "      <td>NaN</td>\n",
       "    </tr>\n",
       "    <tr>\n",
       "      <th>1430</th>\n",
       "      <td>2024-02-15</td>\n",
       "      <td>7</td>\n",
       "      <td>2024-02-08</td>\n",
       "      <td>3.0</td>\n",
       "      <td>6</td>\n",
       "      <td>SP</td>\n",
       "      <td>GVE VII SANTO ANDRE</td>\n",
       "      <td>1332.0</td>\n",
       "      <td>SAO CAETANO DO SUL</td>\n",
       "      <td>354880</td>\n",
       "      <td>...</td>\n",
       "      <td>NaN</td>\n",
       "      <td>2</td>\n",
       "      <td>NaN</td>\n",
       "      <td>GF9673</td>\n",
       "      <td>NaN</td>\n",
       "      <td>NaN</td>\n",
       "      <td>2023-03-24</td>\n",
       "      <td>NaN</td>\n",
       "      <td>NaN</td>\n",
       "      <td>1.0</td>\n",
       "    </tr>\n",
       "    <tr>\n",
       "      <th>1431</th>\n",
       "      <td>2024-10-06</td>\n",
       "      <td>41</td>\n",
       "      <td>2024-10-05</td>\n",
       "      <td>0.0</td>\n",
       "      <td>40</td>\n",
       "      <td>MG</td>\n",
       "      <td>POUSO ALEGRE</td>\n",
       "      <td>1459.0</td>\n",
       "      <td>POCOS DE CALDAS</td>\n",
       "      <td>315180</td>\n",
       "      <td>...</td>\n",
       "      <td>NaN</td>\n",
       "      <td>2</td>\n",
       "      <td>NaN</td>\n",
       "      <td>GJ2553</td>\n",
       "      <td>NaN</td>\n",
       "      <td>NaN</td>\n",
       "      <td>2023-03-01</td>\n",
       "      <td>NaN</td>\n",
       "      <td>NaN</td>\n",
       "      <td>0.0</td>\n",
       "    </tr>\n",
       "    <tr>\n",
       "      <th>1433</th>\n",
       "      <td>2024-03-06</td>\n",
       "      <td>10</td>\n",
       "      <td>2024-02-19</td>\n",
       "      <td>6.0</td>\n",
       "      <td>8</td>\n",
       "      <td>DF</td>\n",
       "      <td>NaN</td>\n",
       "      <td>NaN</td>\n",
       "      <td>BRASILIA</td>\n",
       "      <td>530010</td>\n",
       "      <td>...</td>\n",
       "      <td>NaN</td>\n",
       "      <td>2</td>\n",
       "      <td>NaN</td>\n",
       "      <td>NaN</td>\n",
       "      <td>NaN</td>\n",
       "      <td>NaN</td>\n",
       "      <td>NaT</td>\n",
       "      <td>FM3809</td>\n",
       "      <td>NaN</td>\n",
       "      <td>1.0</td>\n",
       "    </tr>\n",
       "  </tbody>\n",
       "</table>\n",
       "<p>474 rows × 203 columns</p>\n",
       "</div>"
      ],
      "text/plain": [
       "     DT_NOTIFIC  SEM_NOT DT_SIN_PRI  DIAS INICIO SIN HOSPITALIZAÇÃO  SEM_PRI  \\\n",
       "4    2024-09-06       36 2024-09-04                             1.0       36   \n",
       "5    2024-02-05        6 2024-02-05                             0.0        6   \n",
       "6    2024-09-17       38 2024-09-15                             2.0       38   \n",
       "7    2024-12-05       49 2024-10-01                             0.0       40   \n",
       "16   2024-12-11       50 2024-11-11                            23.0       46   \n",
       "...         ...      ...        ...                             ...      ...   \n",
       "1424 2024-09-25       39 2024-09-24                             1.0       39   \n",
       "1425 2024-02-22        8 2024-02-15                             1.0        7   \n",
       "1430 2024-02-15        7 2024-02-08                             3.0        6   \n",
       "1431 2024-10-06       41 2024-10-05                             0.0       40   \n",
       "1433 2024-03-06       10 2024-02-19                             6.0        8   \n",
       "\n",
       "     SG_UF_NOT           ID_REGIONA  CO_REGIONA          ID_MUNICIP  \\\n",
       "4           SP        GVE I CAPITAL      1331.0           SAO PAULO   \n",
       "5           SC            JOINVILLE      1565.0           JOINVILLE   \n",
       "6           RS              018 CRS      1605.0      CAPAO DA CANOA   \n",
       "7           SP        GVE I CAPITAL      1331.0           SAO PAULO   \n",
       "16          MG       BELO HORIZONTE      1449.0      BELO HORIZONTE   \n",
       "...        ...                  ...         ...                 ...   \n",
       "1424        MG          SETE LAGOAS      1467.0         SETE LAGOAS   \n",
       "1425        SP    GVE XX PIRACICABA      1345.0          PIRACICABA   \n",
       "1430        SP  GVE VII SANTO ANDRE      1332.0  SAO CAETANO DO SUL   \n",
       "1431        MG         POUSO ALEGRE      1459.0     POCOS DE CALDAS   \n",
       "1433        DF                  NaN         NaN            BRASILIA   \n",
       "\n",
       "      CO_MUN_NOT  ... VG_REINF  REINF Unnamed: 195 LOT_RE_BI  FAB_RE_BI  \\\n",
       "4         355030  ...      NaN      2          NaN    GF9673        NaN   \n",
       "5         420910  ...      NaN      2          NaN    GJ9239        NaN   \n",
       "6         430463  ...      NaN      2          NaN       NaN        NaN   \n",
       "7         355030  ...      NaN      2          NaN       NaN        NaN   \n",
       "16        310620  ...      NaN      2          NaN       NaN        NaN   \n",
       "...          ...  ...      ...    ...          ...       ...        ...   \n",
       "1424      316720  ...      NaN      2          NaN       NaN        NaN   \n",
       "1425      353870  ...      NaN      2          NaN       NaN        NaN   \n",
       "1430      354880  ...      NaN      2          NaN    GF9673        NaN   \n",
       "1431      315180  ...      NaN      2          NaN    GJ2553        NaN   \n",
       "1433      530010  ...      NaN      2          NaN       NaN        NaN   \n",
       "\n",
       "      Unnamed: 198  DOS_RE_BI  LOTE_ADIC  TABAG  CASO_SRAG  \n",
       "4              NaN 2023-03-27        NaN    NaN        1.0  \n",
       "5              NaN 2023-06-28        NaN    NaN        1.0  \n",
       "6              NaN        NaT        NaN    NaN        1.0  \n",
       "7              NaN        NaT        NaN    NaN        1.0  \n",
       "16             NaN        NaT        NaN    NaN        1.0  \n",
       "...            ...        ...        ...    ...        ...  \n",
       "1424           NaN        NaT        NaN    NaN        1.0  \n",
       "1425           NaN        NaT        NaN    NaN        NaN  \n",
       "1430           NaN 2023-03-24        NaN    NaN        1.0  \n",
       "1431           NaN 2023-03-01        NaN    NaN        0.0  \n",
       "1433           NaN        NaT     FM3809    NaN        1.0  \n",
       "\n",
       "[474 rows x 203 columns]"
      ]
     },
     "execution_count": 156,
     "metadata": {},
     "output_type": "execute_result"
    }
   ],
   "source": [
    "filtered"
   ]
  },
  {
   "cell_type": "markdown",
   "id": "a5ef52ef-7f8a-41d9-8dcc-cbdc533e6883",
   "metadata": {},
   "source": [
    "Média de idade:"
   ]
  },
  {
   "cell_type": "code",
   "execution_count": 157,
   "id": "0b0bf482-b6f4-482b-88de-5a423a1930dc",
   "metadata": {},
   "outputs": [
    {
     "data": {
      "text/plain": [
       "np.float64(74.89662447257383)"
      ]
     },
     "execution_count": 157,
     "metadata": {},
     "output_type": "execute_result"
    }
   ],
   "source": [
    "filtered[\"NU_IDADE_N\"].mean()"
   ]
  },
  {
   "cell_type": "markdown",
   "id": "1a8b181c-9ccc-414e-9e75-e00e8fdd19cc",
   "metadata": {},
   "source": [
    "Porcentagem masculino:"
   ]
  },
  {
   "cell_type": "code",
   "execution_count": 136,
   "id": "f773d699-b55b-4652-adca-f0fe3070bd37",
   "metadata": {},
   "outputs": [
    {
     "data": {
      "text/plain": [
       "0.4673469387755102"
      ]
     },
     "execution_count": 136,
     "metadata": {},
     "output_type": "execute_result"
    }
   ],
   "source": [
    "len(filtered[filtered[\"CS_SEXO\"] == 'M']) / len(filtered[filtered[\"CS_SEXO\"].isin(['M', 'F'])])"
   ]
  },
  {
   "cell_type": "markdown",
   "id": "6ea97f20-95df-4291-a1f7-ae3ef96f17f1",
   "metadata": {},
   "source": [
    "Mortes"
   ]
  },
  {
   "cell_type": "code",
   "execution_count": 137,
   "id": "18086010-f50a-416b-9669-1477d99f3610",
   "metadata": {},
   "outputs": [
    {
     "name": "stdout",
     "output_type": "stream",
     "text": [
      "175/490 (35.7%)\n"
     ]
    }
   ],
   "source": [
    "# D dias\n",
    "def death_filter(df):\n",
    "    DEATH = 2\n",
    "    DEATH_BY_OTHER_REASONS = 3\n",
    "    return df[\"EVOLUCAO\"].isin([DEATH, DEATH_BY_OTHER_REASONS])\n",
    "\n",
    "def death_rate(df):\n",
    "    \n",
    "    total = len(df[death_filter(df)])\n",
    "    percentage = total / len(df)\n",
    "    return f\"{total}/{len(df)} ({percentage:.1%})\"\n",
    "\n",
    "\n",
    "print(death_rate(filtered))"
   ]
  },
  {
   "cell_type": "markdown",
   "id": "e7091973-b432-437b-ac5e-eb92d61cc5be",
   "metadata": {},
   "source": [
    "Idade"
   ]
  },
  {
   "cell_type": "code",
   "execution_count": 138,
   "id": "148cfe25-7877-471e-b250-15930d73a7dd",
   "metadata": {},
   "outputs": [
    {
     "name": "stdout",
     "output_type": "stream",
     "text": [
      ">80: 59/162 (36.4%)\n",
      "<80: 116/328 (35.4%)\n"
     ]
    }
   ],
   "source": [
    "filtered_ge80 = filtered[filtered[\"NU_IDADE_N\"] >= 80]\n",
    "filtered_lt80 = filtered[filtered[\"NU_IDADE_N\"] < 80]\n",
    "\n",
    "print(f\"\"\"\\\n",
    ">80: {death_rate(filtered_ge80)}\n",
    "<80: {death_rate(filtered_lt80)}\"\"\")"
   ]
  },
  {
   "cell_type": "markdown",
   "id": "5bc3424d-fb2c-49b8-998d-5792fe3a57f7",
   "metadata": {},
   "source": [
    "Doses"
   ]
  },
  {
   "cell_type": "code",
   "execution_count": 43,
   "id": "f42a5063-6bbd-4c8c-b314-e39e31155163",
   "metadata": {},
   "outputs": [],
   "source": [
    "with_3_or_4_doses = filtered[~filtered[\"DOSE_REF\"].isna() | ~filtered[\"DOSE_2REF\"].isna()]\n",
    "without_3_or_4_doses = filtered[filtered[\"DOSE_REF\"].isna() & filtered[\"DOSE_2REF\"].isna()]"
   ]
  },
  {
   "cell_type": "code",
   "execution_count": 44,
   "id": "9869fda0-ada9-4def-80b4-2a75576f2e92",
   "metadata": {},
   "outputs": [
    {
     "name": "stdout",
     "output_type": "stream",
     "text": [
      "Less than 3 doses: 71/170 (41.8%)\n",
      "3-4 doses: 102/272 (37.5%)\n"
     ]
    }
   ],
   "source": [
    "# DOSE_ADIC FF (com registo de fabricante FL, FM, FN, FO)\n",
    "# Ano ultima dose vacina (considerar fabricante)\n",
    "# FQ: esquema vacinal\n",
    "\n",
    "print(f\"\"\"\\\n",
    "Less than 3 doses: {death_rate(without_3_or_4_doses)}\n",
    "3-4 doses: {death_rate(with_3_or_4_doses)}\"\"\")"
   ]
  },
  {
   "cell_type": "markdown",
   "id": "95809f3d-13ac-4062-974d-c6a4efa0f974",
   "metadata": {},
   "source": [
    "UTI"
   ]
  },
  {
   "cell_type": "code",
   "execution_count": 45,
   "id": "d5b534e2-5706-4415-95af-05c4b417b56e",
   "metadata": {},
   "outputs": [],
   "source": [
    "icu = filtered[filtered[\"UTI\"] == 1]\n",
    "no_icu = filtered[filtered[\"UTI\"] == 2]\n"
   ]
  },
  {
   "cell_type": "code",
   "execution_count": 46,
   "id": "f907c350-505a-4b83-9154-fd02f2e84334",
   "metadata": {},
   "outputs": [
    {
     "name": "stdout",
     "output_type": "stream",
     "text": [
      "ICU: 88/155 (56.8%)\n",
      "no ICU: 71/262 (27.1%)\n"
     ]
    }
   ],
   "source": [
    "print(f\"\"\"\\\n",
    "ICU: {death_rate(icu)}\n",
    "no ICU: {death_rate(no_icu)}\"\"\")"
   ]
  },
  {
   "cell_type": "markdown",
   "id": "75951184-4e55-4f09-9cd2-d1e77b0115f7",
   "metadata": {},
   "source": [
    "Ventilação mecânica"
   ]
  },
  {
   "cell_type": "code",
   "execution_count": 47,
   "id": "0d208680-ceeb-47a2-b12c-8fd346567424",
   "metadata": {},
   "outputs": [],
   "source": [
    "YES_INVASIVE = 1\n",
    "YES_NON_INVASIVE = 2\n",
    "NO = 3\n",
    "mechanical = filtered[filtered[\"SUPORT_VEN\"].isin([YES_INVASIVE, YES_NON_INVASIVE])]\n",
    "no_mechanical = filtered[filtered[\"SUPORT_VEN\"] == NO]\n"
   ]
  },
  {
   "cell_type": "code",
   "execution_count": 48,
   "id": "8d8bc606-bb42-48c2-989d-7979c1601afa",
   "metadata": {},
   "outputs": [
    {
     "name": "stdout",
     "output_type": "stream",
     "text": [
      "Mechanical ventilation: 138/299 (46.2%)\n",
      "no Mechanical ventilation: 26/122 (21.3%)\n"
     ]
    }
   ],
   "source": [
    "print(f\"\"\"\\\n",
    "Mechanical ventilation: {death_rate(mechanical)}\n",
    "no Mechanical ventilation: {death_rate(no_mechanical)}\"\"\")"
   ]
  },
  {
   "cell_type": "markdown",
   "id": "7c3d0262-db6a-44a1-a57a-87418df295cf",
   "metadata": {},
   "source": [
    "# Regressão logística"
   ]
  },
  {
   "cell_type": "code",
   "execution_count": 65,
   "id": "5d1a8550-e45e-477c-a9a7-ef1f689a52a3",
   "metadata": {},
   "outputs": [],
   "source": [
    "from rpy2.robjects.packages import importr\n",
    "from rpy2.robjects import pandas2ri, Formula\n",
    "pandas2ri.activate()\n",
    "# import R's \"base\" package\n",
    "base = importr('base')\n",
    "stats = importr('stats')\n"
   ]
  },
  {
   "cell_type": "markdown",
   "id": "eed64420-c778-4b05-8a12-33071542dc44",
   "metadata": {},
   "source": [
    "## Bivariada"
   ]
  },
  {
   "cell_type": "code",
   "execution_count": 50,
   "id": "a6e34b1d-8adc-4fb2-a3a4-9fe7655248b8",
   "metadata": {},
   "outputs": [],
   "source": [
    "survivor = filtered[~death_filter(filtered)]\n",
    "non_survivor = filtered[death_filter(filtered)]"
   ]
  },
  {
   "cell_type": "markdown",
   "id": "59aafc2a-6497-45bd-896c-de9cf7293e17",
   "metadata": {},
   "source": [
    "Total"
   ]
  },
  {
   "cell_type": "code",
   "execution_count": 51,
   "id": "426240ff-e0d3-4f91-8e1a-76db1a553d56",
   "metadata": {},
   "outputs": [
    {
     "name": "stdout",
     "output_type": "stream",
     "text": [
      "Total\n",
      "Survivor: 269\n",
      "Non-Survivor: 173\n"
     ]
    }
   ],
   "source": [
    "print(\"Total\")\n",
    "print(f\"Survivor: {len(survivor)}\")\n",
    "print(f\"Non-Survivor: {len(non_survivor)}\")"
   ]
  },
  {
   "cell_type": "markdown",
   "id": "07b7b039-c3f5-40fd-a016-cbcb1bd3ec30",
   "metadata": {},
   "source": [
    "Epidemiologic week"
   ]
  },
  {
   "cell_type": "code",
   "execution_count": 76,
   "id": "2181f8bb-4cf8-4b5e-b143-af0f21b761fb",
   "metadata": {},
   "outputs": [
    {
     "name": "stdout",
     "output_type": "stream",
     "text": [
      "Epidemiologic week, median (IQR)\n",
      "Survivor: 14.0 (30.0)\n",
      "Non-Survivor: 22.0 (32.0)\n",
      "p-value: 0.48106072636845965\n"
     ]
    }
   ],
   "source": [
    "def iqr(column):\n",
    "    quartiles = column.quantile([0.25, 0.75])\n",
    "    return quartiles[0.75] - quartiles[0.25]\n",
    "print(\"Epidemiologic week, median (IQR)\")\n",
    "print(f\"Survivor: {survivor[\"SEM_PRI\"].median()} ({iqr(survivor[\"SEM_PRI\"])})\")\n",
    "print(f\"Non-Survivor: {non_survivor[\"SEM_PRI\"].median()} ({iqr(non_survivor[\"SEM_PRI\"])})\")\n",
    "\n",
    "xy = pd.concat([filtered[[\"SEM_PRI\"]], death_filter(filtered)], axis=1).set_axis(['x', 'y'], axis=1)\n",
    "glm_model = stats.glm(Formula('y ~ x'), data=xy, family=stats.binomial())\n",
    "summary = base.summary(glm_model)\n",
    "coef = stats.coef(summary)\n",
    "print(f'p-value: {coef[1][3]}')\n"
   ]
  },
  {
   "cell_type": "markdown",
   "id": "13c35cf9-a6e9-4df9-9fe7-389318de53c9",
   "metadata": {},
   "source": [
    "Days from onset of first symptoms "
   ]
  },
  {
   "cell_type": "code",
   "execution_count": 80,
   "id": "486c46f9-87dd-4763-b75d-b7af78a3ae39",
   "metadata": {},
   "outputs": [
    {
     "name": "stdout",
     "output_type": "stream",
     "text": [
      "Days from onset of first symptoms, median (IQR)\n",
      "Survivor: 2.0 (4.0)\n",
      "Non-Survivor: 2.0 (5.0)\n",
      "p-value: 0.4008241901334414\n"
     ]
    }
   ],
   "source": [
    "print(\"Days from onset of first symptoms, median (IQR)\")\n",
    "delta_days_filtered = (filtered[\"DT_INTERNA\"] - filtered[\"DT_SIN_PRI\"]).dt.days\n",
    "delta_days_survivor = (survivor[\"DT_INTERNA\"] - survivor[\"DT_SIN_PRI\"]).dt.days\n",
    "delta_days_non_survivor = (non_survivor[\"DT_INTERNA\"] - non_survivor[\"DT_SIN_PRI\"]).dt.days\n",
    "\n",
    "\n",
    "print(f\"Survivor: {delta_days_survivor.median()} ({iqr(delta_days_survivor)})\")\n",
    "print(f\"Non-Survivor: {delta_days_non_survivor.median()} ({iqr(delta_days_non_survivor)})\")\n",
    "\n",
    "xy = pd.concat([delta_days_filtered, death_filter(filtered)], axis=1).set_axis(['x', 'y'], axis=1)\n",
    "glm_model = stats.glm(Formula('y ~ x'), data=xy, family=stats.binomial())\n",
    "summary = base.summary(glm_model)\n",
    "coef = stats.coef(summary)\n",
    "print(f'p-value: {coef[1][3]}')"
   ]
  },
  {
   "cell_type": "markdown",
   "id": "f74c7bd4-1adf-46b4-9695-e2e0e0b4fdbc",
   "metadata": {},
   "source": [
    "Age group"
   ]
  },
  {
   "cell_type": "code",
   "execution_count": 83,
   "id": "9f466287-6d7f-4eb6-9bf1-c9de9e8e768d",
   "metadata": {},
   "outputs": [],
   "source": [
    "age = filtered[\"NU_IDADE_N\"].apply(lambda x: '60-69' if x < 70 else '70-79' if x < 80 else '80+')"
   ]
  },
  {
   "cell_type": "code",
   "execution_count": 89,
   "id": "c94a5cbe-db22-408b-a190-53f0dd79e3ea",
   "metadata": {},
   "outputs": [
    {
     "name": "stdout",
     "output_type": "stream",
     "text": [
      "p-value: 0.18255707829673493 or 0.39822980192886176\n"
     ]
    }
   ],
   "source": [
    "xy = pd.concat([age, death_filter(filtered)], axis=1).set_axis(['x', 'y'], axis=1)\n",
    "glm_model = stats.glm(Formula('y ~ x'), data=xy, family=stats.binomial())\n",
    "summary = base.summary(glm_model)\n",
    "coef = stats.coef(summary)\n",
    "print(f'p-value: {coef[1][3]} or {coef[2][3]}')\n",
    "# print(summary)"
   ]
  },
  {
   "cell_type": "code",
   "execution_count": 95,
   "id": "c80334b8-42f9-4296-b37b-589ab7d4c930",
   "metadata": {},
   "outputs": [
    {
     "name": "stdout",
     "output_type": "stream",
     "text": [
      "60-69\n",
      "Survivor: 94\n",
      "Non-Survivor: 71\n",
      "70-79\n",
      "Survivor: 94\n",
      "Non-Survivor: 52\n",
      "80+\n",
      "Survivor: 81\n",
      "Non-Survivor: 50\n"
     ]
    }
   ],
   "source": [
    "print(\"60-69\")\n",
    "print(f\"Survivor: {len(survivor[survivor[\"NU_IDADE_N\"] < 70])}\")\n",
    "print(f\"Non-Survivor: {len(non_survivor[non_survivor[\"NU_IDADE_N\"] < 70])}\")\n",
    "print(\"70-79\")\n",
    "print(f\"Survivor: {len(survivor[(survivor[\"NU_IDADE_N\"] >= 70) & (survivor[\"NU_IDADE_N\"] < 80)])}\")\n",
    "print(f\"Non-Survivor: {len(non_survivor[(non_survivor[\"NU_IDADE_N\"] >= 70) & (non_survivor[\"NU_IDADE_N\"] < 80)])}\")\n",
    "print(\"80+\")\n",
    "print(f\"Survivor: {len(survivor[(survivor[\"NU_IDADE_N\"] >= 80)])}\")\n",
    "print(f\"Non-Survivor: {len(non_survivor[(non_survivor[\"NU_IDADE_N\"] >= 80)])}\")"
   ]
  },
  {
   "cell_type": "markdown",
   "id": "f3c54893-7b28-4f05-8135-85b30dc8782f",
   "metadata": {},
   "source": [
    "Gender"
   ]
  },
  {
   "cell_type": "code",
   "execution_count": 99,
   "id": "722c8614-cbf8-4928-bb67-58183b9aa475",
   "metadata": {},
   "outputs": [
    {
     "name": "stdout",
     "output_type": "stream",
     "text": [
      "p-value: 0.02583799243510284\n"
     ]
    }
   ],
   "source": [
    "xy = pd.concat([filtered[\"CS_SEXO\"], death_filter(filtered)], axis=1).set_axis(['x', 'y'], axis=1)\n",
    "glm_model = stats.glm(Formula('y ~ x'), data=xy, family=stats.binomial())\n",
    "summary = base.summary(glm_model)\n",
    "coef = stats.coef(summary)\n",
    "print(f'p-value: {coef[1][3]}')\n",
    "#print(summary)"
   ]
  },
  {
   "cell_type": "code",
   "execution_count": 100,
   "id": "e3e1a22b-4468-43aa-bc84-50b0863c88b5",
   "metadata": {},
   "outputs": [
    {
     "name": "stdout",
     "output_type": "stream",
     "text": [
      "Female\n",
      "Survivor: 149\n",
      "Non-Survivor: 77\n",
      "Male\n",
      "Survivor: 120\n",
      "Non-Survivor: 96\n"
     ]
    }
   ],
   "source": [
    "print(\"Female\")\n",
    "print(f\"Survivor: {len(survivor[survivor[\"CS_SEXO\"] == \"F\"])}\")\n",
    "print(f\"Non-Survivor: {len(non_survivor[non_survivor[\"CS_SEXO\"] == \"F\"])}\")\n",
    "print(\"Male\")\n",
    "print(f\"Survivor: {len(survivor[survivor[\"CS_SEXO\"] == \"M\"])}\")\n",
    "print(f\"Non-Survivor: {len(non_survivor[non_survivor[\"CS_SEXO\"] == \"M\"])}\")\n"
   ]
  },
  {
   "cell_type": "markdown",
   "id": "025e7115-a602-4d2e-af74-a36495272877",
   "metadata": {},
   "source": [
    "Race or ethnicity"
   ]
  },
  {
   "cell_type": "code",
   "execution_count": 105,
   "id": "4bb998aa-7f94-403b-9043-b5ab88f4d19d",
   "metadata": {},
   "outputs": [
    {
     "name": "stdout",
     "output_type": "stream",
     "text": [
      "p-value??: 0.6781486171073998 or 0.5237654769089163 or 0.8972751454740913 or 0.9807296354149344\n"
     ]
    }
   ],
   "source": [
    "xy = pd.concat([filtered[\"CS_RACA\"].map({1:\"white\", 2:\"black\", 3:\"yellow\", 4:\"brown\", 5:\"indigenous\", 9:\"unknown\"}), death_filter(filtered)], axis=1).set_axis(['x', 'y'], axis=1)\n",
    "glm_model = stats.glm(Formula('y ~ x'), data=xy, family=stats.binomial())\n",
    "summary = base.summary(glm_model)\n",
    "coef = stats.coef(summary)\n",
    "print(f'p-value??: {coef[1][3]} or {coef[2][3]} or {coef[3][3]} or {coef[4][3]}')\n",
    "#print(summary)"
   ]
  },
  {
   "cell_type": "code",
   "execution_count": 111,
   "id": "d1fc52f6-05dd-4245-9bfc-183cfd5932bd",
   "metadata": {},
   "outputs": [
    {
     "name": "stdout",
     "output_type": "stream",
     "text": [
      "White\n",
      "Survivor: 156\n",
      "Non-Survivor: 103\n",
      "Brown\n",
      "Survivor: 56\n",
      "Non-Survivor: 46\n",
      "Black\n",
      "Survivor: 5\n",
      "Non-Survivor: 3\n",
      "Yellow\n",
      "Survivor: 0\n",
      "Non-Survivor: 2\n",
      "indigenous\n",
      "Survivor: 0\n",
      "Non-Survivor: 0\n",
      "Unknown\n",
      "Survivor: 52\n",
      "Non-Survivor: 19\n"
     ]
    }
   ],
   "source": [
    "print(\"White\")\n",
    "print(f\"Survivor: {len(survivor[survivor[\"CS_RACA\"] == 1])}\")\n",
    "print(f\"Non-Survivor: {len(non_survivor[non_survivor[\"CS_RACA\"] == 1])}\")\n",
    "print(\"Brown\")\n",
    "print(f\"Survivor: {len(survivor[survivor[\"CS_RACA\"] == 4])}\")\n",
    "print(f\"Non-Survivor: {len(non_survivor[non_survivor[\"CS_RACA\"] == 4])}\")\n",
    "print(\"Black\")\n",
    "print(f\"Survivor: {len(survivor[survivor[\"CS_RACA\"] == 2])}\")\n",
    "print(f\"Non-Survivor: {len(non_survivor[non_survivor[\"CS_RACA\"] == 2])}\")\n",
    "print(\"Yellow\")\n",
    "print(f\"Survivor: {len(survivor[survivor[\"CS_RACA\"] == 3])}\")\n",
    "print(f\"Non-Survivor: {len(non_survivor[non_survivor[\"CS_RACA\"] == 3])}\")\n",
    "print(\"indigenous\")\n",
    "print(f\"Survivor: {len(survivor[survivor[\"CS_RACA\"] == 5])}\")\n",
    "print(f\"Non-Survivor: {len(non_survivor[non_survivor[\"CS_RACA\"] == 5])}\")\n",
    "print(\"Unknown\")\n",
    "print(f\"Survivor: {len(survivor[survivor[\"CS_RACA\"] == 9])}\")\n",
    "print(f\"Non-Survivor: {len(non_survivor[non_survivor[\"CS_RACA\"] == 9])}\")\n"
   ]
  },
  {
   "cell_type": "code",
   "execution_count": null,
   "id": "6e8df7c8-c66c-4d22-8099-051d79437c22",
   "metadata": {},
   "outputs": [],
   "source": [
    "#TIPO_TRAT"
   ]
  }
 ],
 "metadata": {
  "kernelspec": {
   "display_name": "Python 3 (ipykernel)",
   "language": "python",
   "name": "python3"
  },
  "language_info": {
   "codemirror_mode": {
    "name": "ipython",
    "version": 3
   },
   "file_extension": ".py",
   "mimetype": "text/x-python",
   "name": "python",
   "nbconvert_exporter": "python",
   "pygments_lexer": "ipython3",
   "version": "3.12.10"
  }
 },
 "nbformat": 4,
 "nbformat_minor": 5
}
